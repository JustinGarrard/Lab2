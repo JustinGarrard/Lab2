{
  "nbformat": 4,
  "nbformat_minor": 0,
  "metadata": {
    "colab": {
      "name": "Lab2Test.ipynb",
      "version": "0.3.2",
      "provenance": [],
      "include_colab_link": true
    },
    "kernelspec": {
      "name": "python3",
      "display_name": "Python 3"
    }
  },
  "cells": [
    {
      "cell_type": "markdown",
      "metadata": {
        "id": "view-in-github",
        "colab_type": "text"
      },
      "source": [
        "<a href=\"https://colab.research.google.com/github/JustinGarrard/Lab2Test/blob/master/Lab2Test.ipynb\" target=\"_parent\"><img src=\"https://colab.research.google.com/assets/colab-badge.svg\" alt=\"Open In Colab\"/></a>"
      ]
    },
    {
      "metadata": {
        "id": "d92_fOkoe1jX",
        "colab_type": "text"
      },
      "cell_type": "markdown",
      "source": [
        "## Accessing Files"
      ]
    },
    {
      "metadata": {
        "id": "mo5C-t7te9nd",
        "colab_type": "code",
        "colab": {
          "base_uri": "https://localhost:8080/",
          "height": 34
        },
        "outputId": "c56b4933-a3cd-49a2-eae7-6f27838babf7"
      },
      "cell_type": "code",
      "source": [
        "from keras.datasets import mnist\n",
        "from keras.models import Sequential\n",
        "from keras.layers import Dense\n",
        "from keras.utils import np_utils\n",
        "import numpy as np\n",
        "import matplotlib.pyplot as plt"
      ],
      "execution_count": 1,
      "outputs": [
        {
          "output_type": "stream",
          "text": [
            "Using TensorFlow backend.\n"
          ],
          "name": "stderr"
        }
      ]
    },
    {
      "metadata": {
        "id": "FFSO4OUBk16x",
        "colab_type": "code",
        "colab": {
          "base_uri": "https://localhost:8080/",
          "height": 51
        },
        "outputId": "8f703e31-2e88-4c34-b506-40c182026fb2"
      },
      "cell_type": "code",
      "source": [
        "(X_train, y_train), (X_test, y_test) = mnist.load_data()\n",
        "num_pixels = X_train.shape[1] * X_train.shape[2]\n",
        "X_train = X_train.reshape(X_train.shape[0], num_pixels).astype('float32')\n",
        "X_test = X_test.reshape(X_test.shape[0], num_pixels).astype('float32')\n",
        "X_train = X_train / 255\n",
        "X_test = X_test / 255\n",
        "y_train = np_utils.to_categorical(y_train)\n",
        "y_test = np_utils.to_categorical(y_test)\n",
        "num_classes = y_test.shape[1]"
      ],
      "execution_count": 2,
      "outputs": [
        {
          "output_type": "stream",
          "text": [
            "Downloading data from https://s3.amazonaws.com/img-datasets/mnist.npz\n",
            "11493376/11490434 [==============================] - 0s 0us/step\n"
          ],
          "name": "stdout"
        }
      ]
    },
    {
      "metadata": {
        "id": "O4QJW1RalqeG",
        "colab_type": "code",
        "colab": {
          "base_uri": "https://localhost:8080/",
          "height": 561
        },
        "outputId": "d62c439b-612f-43c2-b814-8c4240e9e19e"
      },
      "cell_type": "code",
      "source": [
        "model = Sequential()\n",
        "model.add(Dense(10, input_dim=784, kernel_initializer='normal', activation='softmax'))\n",
        "model.summary()\n",
        "model.compile(loss='categorical_crossentropy', optimizer='adam', metrics=['accuracy'])\n",
        "model.fit(X_train, y_train, validation_data=(X_test, y_test), epochs=10, batch_size=100, verbose=2)\n",
        "scores = model.evaluate(X_test, y_test, verbose=1)\n",
        "print(\"Baseline Error: %.2f%%\" % (100-scores[1]*100))\n"
      ],
      "execution_count": 3,
      "outputs": [
        {
          "output_type": "stream",
          "text": [
            "_________________________________________________________________\n",
            "Layer (type)                 Output Shape              Param #   \n",
            "=================================================================\n",
            "dense_1 (Dense)              (None, 10)                7850      \n",
            "=================================================================\n",
            "Total params: 7,850\n",
            "Trainable params: 7,850\n",
            "Non-trainable params: 0\n",
            "_________________________________________________________________\n",
            "Train on 60000 samples, validate on 10000 samples\n",
            "Epoch 1/10\n",
            " - 2s - loss: 0.6196 - acc: 0.8458 - val_loss: 0.3622 - val_acc: 0.9063\n",
            "Epoch 2/10\n",
            " - 1s - loss: 0.3453 - acc: 0.9061 - val_loss: 0.3104 - val_acc: 0.9135\n",
            "Epoch 3/10\n",
            " - 1s - loss: 0.3089 - acc: 0.9145 - val_loss: 0.2916 - val_acc: 0.9180\n",
            "Epoch 4/10\n",
            " - 1s - loss: 0.2920 - acc: 0.9183 - val_loss: 0.2818 - val_acc: 0.9216\n",
            "Epoch 5/10\n",
            " - 1s - loss: 0.2818 - acc: 0.9215 - val_loss: 0.2788 - val_acc: 0.9225\n",
            "Epoch 6/10\n",
            " - 1s - loss: 0.2751 - acc: 0.9231 - val_loss: 0.2698 - val_acc: 0.9245\n",
            "Epoch 7/10\n",
            " - 1s - loss: 0.2695 - acc: 0.9245 - val_loss: 0.2696 - val_acc: 0.9260\n",
            "Epoch 8/10\n",
            " - 1s - loss: 0.2646 - acc: 0.9266 - val_loss: 0.2668 - val_acc: 0.9260\n",
            "Epoch 9/10\n",
            " - 1s - loss: 0.2617 - acc: 0.9268 - val_loss: 0.2686 - val_acc: 0.9249\n",
            "Epoch 10/10\n",
            " - 1s - loss: 0.2590 - acc: 0.9284 - val_loss: 0.2668 - val_acc: 0.9261\n",
            "10000/10000 [==============================] - 0s 16us/step\n",
            "Baseline Error: 7.39%\n"
          ],
          "name": "stdout"
        }
      ]
    },
    {
      "metadata": {
        "id": "6YK0q0Tbu2Me",
        "colab_type": "code",
        "colab": {}
      },
      "cell_type": "code",
      "source": [
        "first_layer_weights = model.layers[0].get_weights()[0]\n",
        "\n",
        "test_number = 0\n",
        "\n",
        "image_array = [0] * len(first_layer_weights)\n",
        "for j in range(len(first_layer_weights)):\n",
        "   image_array[j] = first_layer_weights[j][test_number]\n",
        "   \n",
        "\n",
        "plt.imshow(np.array(image_array).reshape(28,28), cmap='bwr')\n",
        "plt.colorbar()"
      ],
      "execution_count": 0,
      "outputs": []
    }
  ]
}